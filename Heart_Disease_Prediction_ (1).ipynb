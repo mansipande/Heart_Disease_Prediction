{
 "cells": [
  {
   "cell_type": "code",
   "execution_count": null,
   "id": "ccd97960",
   "metadata": {
    "id": "ccd97960"
   },
   "outputs": [],
   "source": [
    "import pandas as pd\n",
    "import numpy as np\n",
    "import matplotlib.pyplot as plt\n",
    "import seaborn as sns"
   ]
  },
  {
   "cell_type": "code",
   "execution_count": null,
   "id": "e55b7435",
   "metadata": {
    "colab": {
     "base_uri": "https://localhost:8080/",
     "height": 206
    },
    "id": "e55b7435",
    "outputId": "5747701e-8296-4b13-8582-ed43c459b7c2"
   },
   "outputs": [],
   "source": [
    "# Importing Dataset\n",
    "\n",
    "df = pd.read_csv('heart_data 2.csv')\n",
    "df.head()"
   ]
  },
  {
   "cell_type": "code",
   "execution_count": null,
   "id": "b953f20a",
   "metadata": {
    "colab": {
     "base_uri": "https://localhost:8080/",
     "height": 206
    },
    "id": "b953f20a",
    "outputId": "28bc754d-1f1a-4437-db17-e7ba56a1fc16"
   },
   "outputs": [],
   "source": [
    "# No need to keep index and id as they would not affect our analysis\n",
    "\n",
    "df.drop(['index','id'],axis=1,inplace=True)\n",
    "df.head()"
   ]
  },
  {
   "cell_type": "code",
   "execution_count": null,
   "id": "2ab1c8db",
   "metadata": {
    "colab": {
     "base_uri": "https://localhost:8080/"
    },
    "id": "2ab1c8db",
    "outputId": "37466344-2404-4ec6-fb44-4314042625c3"
   },
   "outputs": [],
   "source": [
    "# Checking for nulls\n",
    "\n",
    "df.isna().sum()"
   ]
  },
  {
   "cell_type": "code",
   "execution_count": null,
   "id": "28a46619",
   "metadata": {
    "colab": {
     "base_uri": "https://localhost:8080/",
     "height": 802
    },
    "id": "28a46619",
    "outputId": "3d38f1b5-8f77-4f37-e3ac-bc9a5967ed41"
   },
   "outputs": [],
   "source": [
    "# Varying age leads us to consider these duplicated values\n",
    "\n",
    "df[df.duplicated()]"
   ]
  },
  {
   "cell_type": "code",
   "execution_count": null,
   "id": "e8b638a6",
   "metadata": {
    "colab": {
     "base_uri": "https://localhost:8080/"
    },
    "id": "e8b638a6",
    "outputId": "b37d63ea-b6d7-4e0a-abba-5a96ff9adb52"
   },
   "outputs": [],
   "source": [
    "# Age is in days\n",
    "np.round(df['age']/365,2)"
   ]
  },
  {
   "cell_type": "code",
   "execution_count": null,
   "id": "faed028d",
   "metadata": {
    "colab": {
     "base_uri": "https://localhost:8080/"
    },
    "id": "faed028d",
    "outputId": "e1ab3c7d-6414-45c0-c666-15697f45cbd6"
   },
   "outputs": [],
   "source": [
    "# Converting to years\n",
    "df['age']=np.round(df['age']/365,2)\n",
    "df['age']"
   ]
  },
  {
   "cell_type": "code",
   "execution_count": null,
   "id": "8114652b",
   "metadata": {
    "colab": {
     "base_uri": "https://localhost:8080/",
     "height": 300
    },
    "id": "8114652b",
    "outputId": "37ac6e5f-9f9d-41bd-c683-94cf26c641a2"
   },
   "outputs": [],
   "source": [
    "df.describe()"
   ]
  },
  {
   "cell_type": "code",
   "execution_count": null,
   "id": "70342433",
   "metadata": {
    "colab": {
     "base_uri": "https://localhost:8080/",
     "height": 671
    },
    "id": "70342433",
    "outputId": "eb44457d-ba93-4a83-80c8-604117554321"
   },
   "outputs": [],
   "source": [
    "sns.distplot(df['ap_hi'])"
   ]
  },
  {
   "cell_type": "code",
   "execution_count": null,
   "id": "f3f172da",
   "metadata": {
    "colab": {
     "base_uri": "https://localhost:8080/",
     "height": 206
    },
    "id": "f3f172da",
    "outputId": "15c588a9-9dba-481a-dd3e-4f88aad29529"
   },
   "outputs": [],
   "source": [
    "# We can see that ap_hi which symbolises systolic blood pressure (Blood Pressure when your heart is beating) has\n",
    "# maximum of 16020, it is medically impossible for it to go over 200 or be under 60 as patient will start having symptoms of organ\n",
    "# failure\n",
    "df[df['ap_hi']>250].head()"
   ]
  },
  {
   "cell_type": "code",
   "execution_count": null,
   "id": "eb552ae6",
   "metadata": {
    "colab": {
     "base_uri": "https://localhost:8080/",
     "height": 423
    },
    "id": "eb552ae6",
    "outputId": "e806b91c-b22e-46e6-dede-fc861e8a012f"
   },
   "outputs": [],
   "source": [
    "df[df['ap_hi']<60]"
   ]
  },
  {
   "cell_type": "code",
   "execution_count": null,
   "id": "45e52987",
   "metadata": {
    "colab": {
     "base_uri": "https://localhost:8080/",
     "height": 206
    },
    "id": "45e52987",
    "outputId": "060e0c09-49e5-43b7-94e6-0dbc7096e838"
   },
   "outputs": [],
   "source": [
    "# A safer cutoff for ap_hi is the range 60-250\n",
    "df = df[(df['ap_hi']<=250) & (df['ap_hi']>=60)]\n",
    "df.reset_index()\n",
    "df.head()"
   ]
  },
  {
   "cell_type": "code",
   "execution_count": null,
   "id": "2f39ec01",
   "metadata": {
    "colab": {
     "base_uri": "https://localhost:8080/",
     "height": 423
    },
    "id": "2f39ec01",
    "outputId": "beeacc76-50ec-4eef-e865-75f50741496d"
   },
   "outputs": [],
   "source": [
    "df[df['ap_lo']>120]"
   ]
  },
  {
   "cell_type": "code",
   "execution_count": null,
   "id": "241281c3",
   "metadata": {
    "colab": {
     "base_uri": "https://localhost:8080/",
     "height": 423
    },
    "id": "241281c3",
    "outputId": "ffd3452e-ed0e-44c3-9f05-1c1b26865be7"
   },
   "outputs": [],
   "source": [
    "df[df['ap_lo']<50]"
   ]
  },
  {
   "cell_type": "code",
   "execution_count": null,
   "id": "bc4a8b15",
   "metadata": {
    "colab": {
     "base_uri": "https://localhost:8080/",
     "height": 206
    },
    "id": "bc4a8b15",
    "outputId": "db59848f-5fc6-4842-cdc6-bea279dce566"
   },
   "outputs": [],
   "source": [
    "df = df[(df['ap_lo']<=120) & (df['ap_lo']>=50)]\n",
    "df.reset_index()\n",
    "df.head()"
   ]
  },
  {
   "cell_type": "code",
   "execution_count": null,
   "id": "877cca37",
   "metadata": {
    "colab": {
     "base_uri": "https://localhost:8080/",
     "height": 1000
    },
    "id": "877cca37",
    "outputId": "45a5b71a-5a71-4452-e79d-ad837b3403d7"
   },
   "outputs": [],
   "source": [
    "df[df['ap_hi']<df['ap_lo']]"
   ]
  },
  {
   "cell_type": "code",
   "execution_count": null,
   "id": "0f7353a0",
   "metadata": {
    "colab": {
     "base_uri": "https://localhost:8080/",
     "height": 53
    },
    "id": "0f7353a0",
    "outputId": "05d84e12-e166-4b08-d704-ac19b7448e29"
   },
   "outputs": [],
   "source": [
    "df=df[df['ap_hi']>df['ap_lo']]\n",
    "df[df['ap_hi']<df['ap_lo']]"
   ]
  },
  {
   "cell_type": "code",
   "execution_count": null,
   "id": "87252eb5",
   "metadata": {
    "colab": {
     "base_uri": "https://localhost:8080/"
    },
    "id": "87252eb5",
    "outputId": "3439aaf9-d69c-43b4-d738-2b81a4b6161f"
   },
   "outputs": [],
   "source": [
    "df[df['gender']==2]['weight'].mean()"
   ]
  },
  {
   "cell_type": "code",
   "execution_count": null,
   "id": "45add32c",
   "metadata": {
    "colab": {
     "base_uri": "https://localhost:8080/"
    },
    "id": "45add32c",
    "outputId": "7ee66a38-4e2f-435a-b749-7ee7244366c5"
   },
   "outputs": [],
   "source": [
    "df[df['gender']==1]['weight'].mean()"
   ]
  },
  {
   "cell_type": "code",
   "execution_count": null,
   "id": "49699feb",
   "metadata": {
    "id": "49699feb"
   },
   "outputs": [],
   "source": [
    "# Safe to assume 1 represents Male and 2 represents Female as a female would weigh less than a man on an average"
   ]
  },
  {
   "cell_type": "code",
   "execution_count": null,
   "id": "83534a50",
   "metadata": {
    "colab": {
     "base_uri": "https://localhost:8080/",
     "height": 673
    },
    "id": "83534a50",
    "outputId": "dea64f18-e9ba-4161-a167-442a52bdaff5"
   },
   "outputs": [],
   "source": [
    "sns.distplot(df['age'])"
   ]
  },
  {
   "cell_type": "code",
   "execution_count": null,
   "id": "4c137815",
   "metadata": {
    "colab": {
     "base_uri": "https://localhost:8080/"
    },
    "id": "4c137815",
    "outputId": "f199c414-49c0-408b-e1b0-cf88bc329fc8"
   },
   "outputs": [],
   "source": [
    "# Gluc Smoke and alco are categorical variables so their skewness doesnt count\n",
    "df.skew()"
   ]
  },
  {
   "cell_type": "code",
   "execution_count": null,
   "id": "7946f2e9",
   "metadata": {
    "colab": {
     "base_uri": "https://localhost:8080/"
    },
    "id": "7946f2e9",
    "outputId": "7a8e7da8-1a14-4fb3-f33e-ac23213e14c8"
   },
   "outputs": [],
   "source": [
    "# Dataset looks balanced from target perspective\n",
    "df['cardio'].value_counts()"
   ]
  },
  {
   "cell_type": "code",
   "execution_count": null,
   "id": "47f7c746",
   "metadata": {
    "colab": {
     "base_uri": "https://localhost:8080/",
     "height": 467
    },
    "id": "47f7c746",
    "outputId": "f7d7de45-075d-409e-bf38-1dac053dca5a"
   },
   "outputs": [],
   "source": [
    "plt.scatter(df['age'],df['height'],c=df['cardio'],alpha=0.4,s=0.5)\n",
    "plt.xlabel('Age in years')\n",
    "plt.ylabel('Height in cm')\n",
    "plt.legend(df['cardio'])"
   ]
  },
  {
   "cell_type": "code",
   "execution_count": null,
   "id": "52ea2b39",
   "metadata": {
    "colab": {
     "base_uri": "https://localhost:8080/",
     "height": 467
    },
    "id": "52ea2b39",
    "outputId": "d168f08f-4927-4a4d-dd49-ea1cbdd0180d"
   },
   "outputs": [],
   "source": [
    "plt.scatter(df['age'],df['weight'],c=df['cardio'],alpha=0.4,s=0.5)\n",
    "plt.xlabel('Age in years')\n",
    "plt.ylabel('Weight in Kg')\n",
    "plt.legend(df['cardio'])"
   ]
  },
  {
   "cell_type": "code",
   "execution_count": null,
   "id": "0db2f314",
   "metadata": {
    "id": "0db2f314"
   },
   "outputs": [],
   "source": [
    "# We can see a slight correlation of increasing weight with presence of cardio vascular diseases"
   ]
  },
  {
   "cell_type": "code",
   "execution_count": null,
   "id": "c3ad3e88",
   "metadata": {
    "colab": {
     "base_uri": "https://localhost:8080/",
     "height": 448
    },
    "id": "c3ad3e88",
    "outputId": "34b73b3e-68d6-4108-b1db-1533c53a262c"
   },
   "outputs": [],
   "source": [
    "plt.scatter(df['ap_hi'],df['ap_lo'],c=df['cardio'],alpha=0.4,s=2)"
   ]
  },
  {
   "cell_type": "code",
   "execution_count": null,
   "id": "d7660a25",
   "metadata": {
    "id": "d7660a25"
   },
   "outputs": [],
   "source": [
    "# Similar result is observed in people having high systolic and diastolic blood pressure"
   ]
  },
  {
   "cell_type": "code",
   "execution_count": null,
   "id": "ca36533d",
   "metadata": {
    "colab": {
     "base_uri": "https://localhost:8080/",
     "height": 467
    },
    "id": "ca36533d",
    "outputId": "b71364b9-9e9f-4fac-8d41-9e1fa0f1df30"
   },
   "outputs": [],
   "source": [
    "sns.countplot(data=df,x='smoke')"
   ]
  },
  {
   "cell_type": "code",
   "execution_count": null,
   "id": "47faf76b",
   "metadata": {
    "colab": {
     "base_uri": "https://localhost:8080/",
     "height": 467
    },
    "id": "47faf76b",
    "outputId": "3554a8c6-089e-4d7e-b3e3-7f0d102c79dd"
   },
   "outputs": [],
   "source": [
    "sns.countplot(data=df,x='cholesterol',hue='cardio')"
   ]
  },
  {
   "cell_type": "code",
   "execution_count": null,
   "id": "da2ccb2f",
   "metadata": {
    "colab": {
     "base_uri": "https://localhost:8080/",
     "height": 467
    },
    "id": "da2ccb2f",
    "outputId": "9c5949a4-e547-4e3d-bc64-3eb15908505b"
   },
   "outputs": [],
   "source": [
    "sns.countplot(data=df,x='alco',hue='cardio')"
   ]
  },
  {
   "cell_type": "code",
   "execution_count": null,
   "id": "48ed687b",
   "metadata": {
    "colab": {
     "base_uri": "https://localhost:8080/",
     "height": 467
    },
    "id": "48ed687b",
    "outputId": "865a36d7-5326-41c1-9d89-bf8fc92ca2eb"
   },
   "outputs": [],
   "source": [
    "sns.countplot(data=df,x='active',hue='cardio')"
   ]
  },
  {
   "cell_type": "code",
   "execution_count": null,
   "id": "29aeb145",
   "metadata": {
    "colab": {
     "base_uri": "https://localhost:8080/",
     "height": 467
    },
    "id": "29aeb145",
    "outputId": "0201eb85-3388-45b7-b55e-200991a25204"
   },
   "outputs": [],
   "source": [
    "sns.countplot(data=df,x='gluc',hue='cardio')"
   ]
  },
  {
   "cell_type": "code",
   "execution_count": null,
   "id": "fdd2d354",
   "metadata": {
    "colab": {
     "base_uri": "https://localhost:8080/",
     "height": 916
    },
    "id": "fdd2d354",
    "outputId": "7d4927df-1e18-4e69-cb5f-aa20c69f6bd0"
   },
   "outputs": [],
   "source": [
    "plt.figure(figsize=(10,10))\n",
    "sns.heatmap(df.corr(),annot=True)"
   ]
  },
  {
   "cell_type": "code",
   "execution_count": null,
   "id": "aae02de3",
   "metadata": {
    "colab": {
     "base_uri": "https://localhost:8080/",
     "height": 206
    },
    "id": "aae02de3",
    "outputId": "1810fd0f-0dda-41cb-ad6b-d8f2264ef4c6"
   },
   "outputs": [],
   "source": [
    "# ap_lo has high correlation with ap_hi and a lower correlation than ap_hi with cardio, so we are dropping it\n",
    "\n",
    "df.drop(['ap_lo'],axis=1,inplace=True)\n",
    "df.head()"
   ]
  },
  {
   "cell_type": "code",
   "execution_count": null,
   "id": "d419fd51",
   "metadata": {
    "colab": {
     "base_uri": "https://localhost:8080/"
    },
    "id": "d419fd51",
    "outputId": "2ed12480-ac16-43c8-93ce-2c7e8453e485"
   },
   "outputs": [],
   "source": [
    "df.dtypes"
   ]
  },
  {
   "cell_type": "code",
   "execution_count": null,
   "id": "3a5e6637",
   "metadata": {
    "id": "3a5e6637"
   },
   "outputs": [],
   "source": [
    "# Classification problem"
   ]
  },
  {
   "cell_type": "code",
   "execution_count": null,
   "id": "7vSpdtlxZrGf",
   "metadata": {
    "colab": {
     "base_uri": "https://localhost:8080/"
    },
    "id": "7vSpdtlxZrGf",
    "outputId": "4652a996-2152-43c9-a162-d38fa80b4747"
   },
   "outputs": [],
   "source": [
    "df.skew()"
   ]
  },
  {
   "cell_type": "code",
   "execution_count": null,
   "id": "kC6OHrEiZ5R2",
   "metadata": {
    "colab": {
     "base_uri": "https://localhost:8080/",
     "height": 655
    },
    "id": "kC6OHrEiZ5R2",
    "outputId": "752474a0-dee9-4952-ea5d-b89faea0b162"
   },
   "outputs": [],
   "source": [
    "df.hist()"
   ]
  },
  {
   "cell_type": "code",
   "execution_count": null,
   "id": "CzpJQr52aW6X",
   "metadata": {
    "colab": {
     "base_uri": "https://localhost:8080/"
    },
    "id": "CzpJQr52aW6X",
    "outputId": "65b5a753-45bc-4eba-8cbe-4ff1d115b4de"
   },
   "outputs": [],
   "source": [
    "df.columns"
   ]
  },
  {
   "cell_type": "code",
   "execution_count": null,
   "id": "goa2gxImaeWv",
   "metadata": {
    "colab": {
     "base_uri": "https://localhost:8080/",
     "height": 467
    },
    "id": "goa2gxImaeWv",
    "outputId": "88cbbe77-8d98-4bb4-a031-5670f75458d1"
   },
   "outputs": [],
   "source": [
    "sns.countplot(data=df,x='smoke')"
   ]
  },
  {
   "cell_type": "code",
   "execution_count": null,
   "id": "ATjXb8Exa2o0",
   "metadata": {
    "id": "ATjXb8Exa2o0"
   },
   "outputs": [],
   "source": [
    "# Values for machine learning model\n",
    "X = df.iloc[:,:-1].values\n",
    "y = df['cardio'].values"
   ]
  },
  {
   "cell_type": "code",
   "execution_count": null,
   "id": "E9k_9kOzcNuI",
   "metadata": {
    "id": "E9k_9kOzcNuI"
   },
   "outputs": [],
   "source": [
    "from sklearn.model_selection import train_test_split\n",
    "from sklearn.metrics import accuracy_score,precision_score, confusion_matrix"
   ]
  },
  {
   "cell_type": "code",
   "execution_count": null,
   "id": "cYJB_VtEc952",
   "metadata": {
    "id": "cYJB_VtEc952"
   },
   "outputs": [],
   "source": [
    "# Splitting the dataset into training and testing sets. Test size is 30% while training size is 70%. Random state set to constant to ensure we get the same splits every time\n",
    "X_train, X_test, y_train, y_test = train_test_split(X,y,test_size=0.3,random_state=101)"
   ]
  },
  {
   "cell_type": "code",
   "execution_count": null,
   "id": "Hngu3FpuejY7",
   "metadata": {
    "id": "Hngu3FpuejY7"
   },
   "outputs": [],
   "source": [
    "from sklearn.preprocessing import StandardScaler"
   ]
  },
  {
   "cell_type": "code",
   "execution_count": null,
   "id": "FOD8MGLTe4XV",
   "metadata": {
    "id": "FOD8MGLTe4XV"
   },
   "outputs": [],
   "source": [
    "sc=StandardScaler()"
   ]
  },
  {
   "cell_type": "code",
   "execution_count": null,
   "id": "_9S_S8cgfIWD",
   "metadata": {
    "id": "_9S_S8cgfIWD"
   },
   "outputs": [],
   "source": [
    "# Standardizing the dataset. Training dataset is standardized with training mean while testing data is also standardized with training mean.\n",
    "X_train = sc.fit_transform(X_train)\n",
    "X_test = sc.transform(X_test)"
   ]
  },
  {
   "cell_type": "code",
   "execution_count": null,
   "id": "mdP-MPbMnpp0",
   "metadata": {
    "colab": {
     "base_uri": "https://localhost:8080/"
    },
    "id": "mdP-MPbMnpp0",
    "outputId": "124b8a38-37cc-4d1f-8b15-705a2b5f8c07"
   },
   "outputs": [],
   "source": [
    "X_train.shape"
   ]
  },
  {
   "cell_type": "code",
   "execution_count": null,
   "id": "vsWfqw1iTboR",
   "metadata": {
    "colab": {
     "base_uri": "https://localhost:8080/",
     "height": 75
    },
    "id": "vsWfqw1iTboR",
    "outputId": "7988bfde-d8aa-4817-ef2c-c66746d97230"
   },
   "outputs": [],
   "source": [
    "# Logistic regression model on training data.\n",
    "from sklearn.linear_model import LogisticRegression\n",
    "lr=LogisticRegression()\n",
    "lr.fit(X_train,y_train)"
   ]
  },
  {
   "cell_type": "code",
   "execution_count": null,
   "id": "XhJXRZZBXNBq",
   "metadata": {
    "colab": {
     "base_uri": "https://localhost:8080/"
    },
    "id": "XhJXRZZBXNBq",
    "outputId": "8ef8bb9d-6b50-47b8-a07f-0c9391e6f626"
   },
   "outputs": [],
   "source": [
    "# We care about precision as we are interested in correct classification of 1s and 0s hence precision as a metric.\n",
    "y_pred=lr.predict(X_test)\n",
    "print(confusion_matrix(y_pred,y_test))\n",
    "print(precision_score(y_pred,y_test))"
   ]
  },
  {
   "cell_type": "code",
   "execution_count": null,
   "id": "flLOY9pYYc-Z",
   "metadata": {
    "colab": {
     "base_uri": "https://localhost:8080/"
    },
    "id": "flLOY9pYYc-Z",
    "outputId": "2bc832f1-e23a-43a0-e7b0-cb3270620610"
   },
   "outputs": [],
   "source": [
    "# Support vector classifier as 2nd model with precision as a metric.\n",
    "from sklearn import svm\n",
    "svc=svm.SVC()\n",
    "svc.fit(X_train,y_train)\n",
    "y_pred=svc.predict(X_test)\n",
    "print(confusion_matrix(y_pred,y_test))\n",
    "print(precision_score(y_pred,y_test))"
   ]
  },
  {
   "cell_type": "code",
   "execution_count": null,
   "id": "rLs7KMXHdP-4",
   "metadata": {
    "id": "rLs7KMXHdP-4"
   },
   "outputs": [],
   "source": [
    "from sklearn.linear_model import LogisticRegression\n",
    "from sklearn.naive_bayes import GaussianNB,BernoulliNB,MultinomialNB\n",
    "from sklearn.svm import SVC\n",
    "from sklearn.tree import DecisionTreeClassifier\n",
    "from sklearn.neighbors import KNeighborsClassifier\n",
    "from sklearn.ensemble import RandomForestClassifier,AdaBoostClassifier,BaggingClassifier,GradientBoostingClassifier\n",
    "from xgboost import XGBClassifier"
   ]
  },
  {
   "cell_type": "code",
   "execution_count": null,
   "id": "eLqJzWcEdafJ",
   "metadata": {
    "id": "eLqJzWcEdafJ"
   },
   "outputs": [],
   "source": [
    "lr = LogisticRegression()\n",
    "gnb = GaussianNB()\n",
    "bnb = BernoulliNB()\n",
    "bgx = XGBClassifier()\n",
    "cbg = GradientBoostingClassifier()\n",
    "cb = BaggingClassifier()\n",
    "cba = AdaBoostClassifier()\n",
    "cfr = RandomForestClassifier()\n",
    "cnk = KNeighborsClassifier()\n",
    "ctd = DecisionTreeClassifier()\n",
    "cvs = SVC()"
   ]
  },
  {
   "cell_type": "code",
   "execution_count": null,
   "id": "l-I3ZZXdd-dr",
   "metadata": {
    "id": "l-I3ZZXdd-dr"
   },
   "outputs": [],
   "source": [
    "models = {'Logistic Regression':lr,\n",
    "          'Gaussian NB' : gnb,\n",
    "          'Bernoulli NB' : bnb,\n",
    "          'Support Vector Classifier' : svc,\n",
    "          'Decision Tree Classifier' : ctd,\n",
    "          'K Neighbors Classifier' : cnk,\n",
    "          'Random Forest Classifier' : cfr,\n",
    "          'Ada Boost Classifier' : cba,\n",
    "          'Bagging Classifier' : cb,\n",
    "          'Gradient Boosting Classifier' : cbg,\n",
    "          'XGBoost Classifier' : bgx}"
   ]
  },
  {
   "cell_type": "code",
   "execution_count": null,
   "id": "4LI_B3KcedtJ",
   "metadata": {
    "colab": {
     "base_uri": "https://localhost:8080/"
    },
    "id": "4LI_B3KcedtJ",
    "outputId": "b749193f-8c11-45eb-b441-4713641b428d"
   },
   "outputs": [],
   "source": [
    "for name,algo in models.items():\n",
    "  algo.fit(X_train,y_train)\n",
    "  y_pred = algo.predict(X_test)\n",
    "  confusion = confusion_matrix(y_pred,y_test)\n",
    "  accuracy = accuracy_score(y_pred,y_test)\n",
    "  precision = precision_score(y_pred,y_test)\n",
    "  print(f'\\nModel : {name}')\n",
    "  print(f'Confusion Matrix ')\n",
    "  print(confusion)\n",
    "  print(f'Accuracy Score ')\n",
    "  print(accuracy)\n",
    "  print('Precision Score ')\n",
    "  print(precision)"
   ]
  },
  {
   "cell_type": "code",
   "execution_count": null,
   "id": "871SfmKKlvOW",
   "metadata": {
    "id": "871SfmKKlvOW"
   },
   "outputs": [],
   "source": [
    "from keras import Sequential\n",
    "from keras.layers import Dense"
   ]
  },
  {
   "cell_type": "code",
   "execution_count": null,
   "id": "cl7-xsrMnXiL",
   "metadata": {
    "id": "cl7-xsrMnXiL"
   },
   "outputs": [],
   "source": [
    "classifier = Sequential()"
   ]
  },
  {
   "cell_type": "code",
   "execution_count": null,
   "id": "E_tZo7tznh73",
   "metadata": {
    "id": "E_tZo7tznh73"
   },
   "outputs": [],
   "source": [
    "classifier.add(Dense(units = 20, activation = 'relu',input_shape=(10,)))\n",
    "classifier.add(Dense(units = 20, activation = 'relu'))\n",
    "classifier.add(Dense(units = 1, activation = 'sigmoid'))"
   ]
  },
  {
   "cell_type": "code",
   "execution_count": null,
   "id": "VitcmCqUoDWo",
   "metadata": {
    "id": "VitcmCqUoDWo"
   },
   "outputs": [],
   "source": [
    "classifier.compile(optimizer='adam', loss='binary_crossentropy', metrics=['accuracy'])"
   ]
  },
  {
   "cell_type": "code",
   "execution_count": null,
   "id": "PoRuq7zwoRrZ",
   "metadata": {
    "colab": {
     "base_uri": "https://localhost:8080/"
    },
    "id": "PoRuq7zwoRrZ",
    "outputId": "20143fa0-3ecb-4b55-c195-1f8e8629c41e"
   },
   "outputs": [],
   "source": [
    "ann=classifier.fit(X_train,y_train,verbose=1)"
   ]
  },
  {
   "cell_type": "code",
   "execution_count": null,
   "id": "zXGhDqSjQB-G",
   "metadata": {
    "id": "zXGhDqSjQB-G"
   },
   "outputs": [],
   "source": [
    "# Since gradient boosting classifier had highest metrics we perform hyperparameter tuning on it"
   ]
  },
  {
   "cell_type": "markdown",
   "id": "-wzSg1pIcBQh",
   "metadata": {
    "id": "-wzSg1pIcBQh"
   },
   "source": [
    "Hyper parameter Tuning"
   ]
  },
  {
   "cell_type": "code",
   "execution_count": null,
   "id": "zp3fyCu6MrzY",
   "metadata": {
    "id": "zp3fyCu6MrzY"
   },
   "outputs": [],
   "source": [
    "from sklearn.metrics import roc_curve, auc"
   ]
  },
  {
   "cell_type": "code",
   "execution_count": null,
   "id": "GfNcLIt4ExTy",
   "metadata": {
    "id": "GfNcLIt4ExTy"
   },
   "outputs": [],
   "source": [
    "learning_rates=[1,0.5,0.1,0.05,0.01]\n",
    "n_estimators=[1,10,20,50,100,200]\n",
    "max_depth=[1,2,3,4,5,6,7,8,9,10]\n",
    "minsamplessplit=[2,5,10,50,100,500]\n",
    "minsamplesleaf=[1,5,10,50,100,500]\n",
    "maxfeatures=list(range(1,X_train.shape[1]))"
   ]
  },
  {
   "cell_type": "code",
   "execution_count": null,
   "id": "HBMRJXz7OK9T",
   "metadata": {
    "colab": {
     "base_uri": "https://localhost:8080/",
     "height": 467
    },
    "id": "HBMRJXz7OK9T",
    "outputId": "dda670dd-69a3-47c6-80b0-27769ea9cb3e"
   },
   "outputs": [],
   "source": [
    "train=[]\n",
    "test=[]\n",
    "for x in learning_rates:\n",
    "  gbc=GradientBoostingClassifier(learning_rate=x)\n",
    "  gbc.fit(X_train,y_train)\n",
    "\n",
    "  y_train_pred=gbc.predict(X_train)\n",
    "  fpr,tpr,t=roc_curve(y_train,y_train_pred)\n",
    "  final = auc(fpr,tpr)\n",
    "  train.append(final)\n",
    "\n",
    "  y_test_pred=gbc.predict(X_test)\n",
    "  fpr,tpr,t=roc_curve(y_test,y_test_pred)\n",
    "  final = auc(fpr,tpr)\n",
    "  test.append(final)\n",
    "\n",
    "plt.plot(learning_rates,test,c='r',label='Test')\n",
    "plt.plot(learning_rates,train,c='b',label='Train')\n",
    "plt.legend()\n",
    "plt.xlabel('Learning Rate')"
   ]
  },
  {
   "cell_type": "code",
   "execution_count": null,
   "id": "FBTHPHiePewZ",
   "metadata": {
    "colab": {
     "base_uri": "https://localhost:8080/",
     "height": 468
    },
    "id": "FBTHPHiePewZ",
    "outputId": "465bb2d2-f110-4b34-df5a-678fe7840bb1"
   },
   "outputs": [],
   "source": [
    "train=[]\n",
    "test=[]\n",
    "for x in n_estimators:\n",
    "  gbc=GradientBoostingClassifier(n_estimators=x)\n",
    "  gbc.fit(X_train,y_train)\n",
    "\n",
    "  y_train_pred=gbc.predict(X_train)\n",
    "  fpr,tpr,t=roc_curve(y_train,y_train_pred)\n",
    "  final = auc(fpr,tpr)\n",
    "  train.append(final)\n",
    "\n",
    "  y_test_pred=gbc.predict(X_test)\n",
    "  fpr,tpr,t=roc_curve(y_test,y_test_pred)\n",
    "  final = auc(fpr,tpr)\n",
    "  test.append(final)\n",
    "\n",
    "plt.plot(n_estimators,test,c='r',label='Test')\n",
    "plt.plot(n_estimators,train,c='b',label='Train')\n",
    "plt.legend()\n",
    "plt.xlabel('N_estimators')"
   ]
  },
  {
   "cell_type": "code",
   "execution_count": null,
   "id": "3nt-DkgEQ8JT",
   "metadata": {
    "colab": {
     "base_uri": "https://localhost:8080/",
     "height": 468
    },
    "id": "3nt-DkgEQ8JT",
    "outputId": "beda5635-a7a0-410b-aed8-a0a036a9d50a"
   },
   "outputs": [],
   "source": [
    "train=[]\n",
    "test=[]\n",
    "for x in max_depth:\n",
    "  gbc=GradientBoostingClassifier(max_depth=x)\n",
    "  gbc.fit(X_train,y_train)\n",
    "\n",
    "  y_train_pred=gbc.predict(X_train)\n",
    "  fpr,tpr,t=roc_curve(y_train,y_train_pred)\n",
    "  final = auc(fpr,tpr)\n",
    "  train.append(final)\n",
    "\n",
    "  y_test_pred=gbc.predict(X_test)\n",
    "  fpr,tpr,t=roc_curve(y_test,y_test_pred)\n",
    "  final = auc(fpr,tpr)\n",
    "  test.append(final)\n",
    "\n",
    "plt.plot(max_depth,test,c='r',label='Test')\n",
    "plt.plot(max_depth,train,c='b',label='Train')\n",
    "plt.legend()\n",
    "plt.xlabel('Max_Depth')"
   ]
  },
  {
   "cell_type": "code",
   "execution_count": null,
   "id": "S8gUSJWJRCwA",
   "metadata": {
    "colab": {
     "base_uri": "https://localhost:8080/",
     "height": 468
    },
    "id": "S8gUSJWJRCwA",
    "outputId": "31a851c7-3153-42aa-b002-335f9233ef07"
   },
   "outputs": [],
   "source": [
    "train=[]\n",
    "test=[]\n",
    "for x in minsamplessplit:\n",
    "  gbc=GradientBoostingClassifier(min_samples_split=x)\n",
    "  gbc.fit(X_train,y_train)\n",
    "\n",
    "  y_train_pred=gbc.predict(X_train)\n",
    "  fpr,tpr,t=roc_curve(y_train,y_train_pred)\n",
    "  final = auc(fpr,tpr)\n",
    "  train.append(final)\n",
    "\n",
    "  y_test_pred=gbc.predict(X_test)\n",
    "  fpr,tpr,t=roc_curve(y_test,y_test_pred)\n",
    "  final = auc(fpr,tpr)\n",
    "  test.append(final)\n",
    "\n",
    "plt.plot(minsamplessplit,test,c='r',label='Test')\n",
    "plt.plot(minsamplessplit,train,c='b',label='Train')\n",
    "plt.legend()\n",
    "plt.xlabel('Min_samples_split')"
   ]
  },
  {
   "cell_type": "code",
   "execution_count": null,
   "id": "wk08l9O9RLDu",
   "metadata": {
    "colab": {
     "base_uri": "https://localhost:8080/",
     "height": 468
    },
    "id": "wk08l9O9RLDu",
    "outputId": "5d726f31-e75f-49ad-fd83-a0e1d9c5a49e"
   },
   "outputs": [],
   "source": [
    "train=[]\n",
    "test=[]\n",
    "for x in minsamplesleaf:\n",
    "  gbc=GradientBoostingClassifier(min_samples_leaf=x)\n",
    "  gbc.fit(X_train,y_train)\n",
    "\n",
    "  y_train_pred=gbc.predict(X_train)\n",
    "  fpr,tpr,t=roc_curve(y_train,y_train_pred)\n",
    "  final = auc(fpr,tpr)\n",
    "  train.append(final)\n",
    "\n",
    "  y_test_pred=gbc.predict(X_test)\n",
    "  fpr,tpr,t=roc_curve(y_test,y_test_pred)\n",
    "  final = auc(fpr,tpr)\n",
    "  test.append(final)\n",
    "\n",
    "plt.plot(minsamplesleaf,test,c='r',label='Test')\n",
    "plt.plot(minsamplesleaf,train,c='b',label='Train')\n",
    "plt.legend()\n",
    "plt.xlabel('Min_samples_leaf')"
   ]
  },
  {
   "cell_type": "code",
   "execution_count": null,
   "id": "I59dDZxLRRow",
   "metadata": {
    "colab": {
     "base_uri": "https://localhost:8080/",
     "height": 468
    },
    "id": "I59dDZxLRRow",
    "outputId": "271bab9b-fab1-4138-ea08-47d0d0ece14f"
   },
   "outputs": [],
   "source": [
    "train=[]\n",
    "test=[]\n",
    "for x in maxfeatures:\n",
    "  gbc=GradientBoostingClassifier(max_features=x)\n",
    "  gbc.fit(X_train,y_train)\n",
    "\n",
    "  y_train_pred=gbc.predict(X_train)\n",
    "  fpr,tpr,t=roc_curve(y_train,y_train_pred)\n",
    "  final = auc(fpr,tpr)\n",
    "  train.append(final)\n",
    "\n",
    "  y_test_pred=gbc.predict(X_test)\n",
    "  fpr,tpr,t=roc_curve(y_test,y_test_pred)\n",
    "  final = auc(fpr,tpr)\n",
    "  test.append(final)\n",
    "\n",
    "plt.plot(maxfeatures,test,c='r',label='Test')\n",
    "plt.plot(maxfeatures,train,c='b',label='Train')\n",
    "plt.legend()\n",
    "plt.xlabel('Max_features')"
   ]
  },
  {
   "cell_type": "code",
   "execution_count": null,
   "id": "6gD_EtPFBMr7",
   "metadata": {
    "id": "6gD_EtPFBMr7"
   },
   "outputs": [],
   "source": [
    "model= GradientBoostingClassifier(learning_rate=0.1,n_estimators=100,max_depth=3,min_samples_split=100,min_samples_leaf=0,max_features=4)"
   ]
  }
 ],
 "metadata": {
  "colab": {
   "provenance": []
  },
  "kernelspec": {
   "display_name": "Python 3 (ipykernel)",
   "language": "python",
   "name": "python3"
  },
  "language_info": {
   "codemirror_mode": {
    "name": "ipython",
    "version": 3
   },
   "file_extension": ".py",
   "mimetype": "text/x-python",
   "name": "python",
   "nbconvert_exporter": "python",
   "pygments_lexer": "ipython3",
   "version": "3.10.9"
  }
 },
 "nbformat": 4,
 "nbformat_minor": 5
}
